{
 "cells": [
  {
   "cell_type": "code",
   "execution_count": 1,
   "id": "terminal-chester",
   "metadata": {},
   "outputs": [
    {
     "name": "stdout",
     "output_type": "stream",
     "text": [
      "Collecting Owlready2\n",
      "  Downloading Owlready2-0.41.tar.gz (27.4 MB)\n",
      "\u001b[K     |████████████████████████████████| 27.4 MB 27.7 MB/s eta 0:00:01\n",
      "\u001b[?25hBuilding wheels for collected packages: Owlready2\n",
      "  Building wheel for Owlready2 (setup.py) ... \u001b[?25ldone\n",
      "\u001b[?25h  Created wheel for Owlready2: filename=Owlready2-0.41-cp37-cp37m-linux_x86_64.whl size=24079724 sha256=f4b3773f684c9169c8c56fd2f378f617e920e47a6611933d4067e09fda7fe938\n",
      "  Stored in directory: /home/james/.cache/pip/wheels/23/5e/69/3dfd270e1f7cf06c01e294dc6e9cff10b62a0d4b7dc5c81ce8\n",
      "Successfully built Owlready2\n",
      "Installing collected packages: Owlready2\n",
      "Successfully installed Owlready2-0.41\n",
      "\u001b[33mWARNING: You are using pip version 21.3; however, version 23.1.2 is available.\n",
      "You should consider upgrading via the '/home/james/programs/miniconda3/envs/ml-env/bin/python -m pip install --upgrade pip' command.\u001b[0m\n"
     ]
    }
   ],
   "source": [
    "!pip install Owlready2"
   ]
  },
  {
   "cell_type": "code",
   "execution_count": null,
   "id": "hollow-reception",
   "metadata": {},
   "outputs": [],
   "source": [
    "from owlready2 import *\n",
    "onto_path.append(\"./snomed.owl\")\n"
   ]
  }
 ],
 "metadata": {
  "kernelspec": {
   "display_name": "Python 3",
   "language": "python",
   "name": "python3"
  },
  "language_info": {
   "codemirror_mode": {
    "name": "ipython",
    "version": 3
   },
   "file_extension": ".py",
   "mimetype": "text/x-python",
   "name": "python",
   "nbconvert_exporter": "python",
   "pygments_lexer": "ipython3",
   "version": "3.7.7"
  }
 },
 "nbformat": 4,
 "nbformat_minor": 5
}
