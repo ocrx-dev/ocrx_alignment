{
 "cells": [
  {
   "cell_type": "code",
   "execution_count": null,
   "id": "overall-commonwealth",
   "metadata": {},
   "outputs": [],
   "source": [
    "import os\n",
    "\n",
    "folders = ['ansm','dailymed','rxnorm','snomed','ocrx']\n",
    "dirname = 'ocrx-owls/all-data/'"
   ]
  },
  {
   "cell_type": "code",
   "execution_count": 2,
   "id": "clinical-modern",
   "metadata": {},
   "outputs": [],
   "source": [
    "import pandas as pd\n",
    "from os.path import join as pjoin\n",
    "def clean_ocrx(df,filename):\n",
    "    df = df.drop_duplicates().sort_values(\"sLabel\")\n",
    "    labels = df['sLabel'].str.upper().values\n",
    "    codes = df['s'].values\n",
    "    new_df =  pd.DataFrame([(str(val_code),str(val)) for val, val_code in zip(labels,codes)])\n",
    "    new_df.columns = ['ocrx_code','ocrx_label']\n",
    "    new_df = new_df.reset_index()\n",
    "    new_df.to_csv(filename,index=False)\n",
    "\n",
    "for filename in os.listdir('ocrx-owls/all-data/ocrx'):\n",
    "    if filename.endswith(\".csv\"):\n",
    "        fullpath = pjoin('ocrx-owls/all-data/ocrx',filename)\n",
    "        df = pd.read_csv(fullpath,index_col=False)\n",
    "        if 'ocrx_code' not in df.columns:\n",
    "            clean_ocrx(df,fullpath)"
   ]
  },
  {
   "cell_type": "code",
   "execution_count": 3,
   "id": "historic-lancaster",
   "metadata": {},
   "outputs": [],
   "source": [
    "from os.path import join as pjoin\n",
    "import pandas as pd\n",
    "\n",
    "\n",
    "def read_csv(fn):\n",
    "    df = pd.read_csv(fn,index_col=False)\n",
    "    for col in df.columns:\n",
    "        if col.endswith(\"_label\"):\n",
    "            df[col] = df[col].str.upper()\n",
    "        if col.startswith(\"Unnamed\"):\n",
    "            del df[col]\n",
    "    return df.dropna().drop_duplicates()\n",
    "def extract_from_fn(filename):\n",
    "    without_ext = filename.split(\".\")[0]\n",
    "    name = \"_\".join(without_ext.split(\"_\")[1:-1])\n",
    "    lang = without_ext.split(\"_\")[-1]\n",
    "#     if name == 'substance':\n",
    "#         name = 'active_ingredient'\n",
    "    return name, lang\n",
    "all_files = {folder : {extract_from_fn(filename) : read_csv(pjoin(dirname,folder,filename)) for filename in os.listdir(pjoin(dirname,folder)) if filename.endswith(\".csv\")} for folder in folders}\n",
    "# extract_from_fn(\"ansm_active_ingredient_en.csv\")"
   ]
  },
  {
   "cell_type": "code",
   "execution_count": 4,
   "id": "elementary-rover",
   "metadata": {},
   "outputs": [
    {
     "data": {
      "text/html": [
       "<div>\n",
       "<style scoped>\n",
       "    .dataframe tbody tr th:only-of-type {\n",
       "        vertical-align: middle;\n",
       "    }\n",
       "\n",
       "    .dataframe tbody tr th {\n",
       "        vertical-align: top;\n",
       "    }\n",
       "\n",
       "    .dataframe thead th {\n",
       "        text-align: right;\n",
       "    }\n",
       "</style>\n",
       "<table border=\"1\" class=\"dataframe\">\n",
       "  <thead>\n",
       "    <tr style=\"text-align: right;\">\n",
       "      <th></th>\n",
       "      <th>ocrx_code</th>\n",
       "      <th>ocrx_label</th>\n",
       "    </tr>\n",
       "  </thead>\n",
       "  <tbody>\n",
       "    <tr>\n",
       "      <th>0</th>\n",
       "      <td>http://www.ocrx.ca/OCRx/2196287095</td>\n",
       "      <td>(CHLORHYDRATE DE MÉTOCLOPRAMIDE MONOHYDRATÉ) 5...</td>\n",
       "    </tr>\n",
       "    <tr>\n",
       "      <th>1</th>\n",
       "      <td>http://www.ocrx.ca/OCRx/2402231607</td>\n",
       "      <td>(MALÉATE D'ACÉPROMAZINE ((MALÉATE D'ACÉPROMAZI...</td>\n",
       "    </tr>\n",
       "    <tr>\n",
       "      <th>3</th>\n",
       "      <td>http://www.ocrx.ca/OCRx/1000017403</td>\n",
       "      <td>(MALÉATE D'ACÉPROMAZINE ((MALÉATE D'ACÉPROMAZI...</td>\n",
       "    </tr>\n",
       "    <tr>\n",
       "      <th>4</th>\n",
       "      <td>http://www.ocrx.ca/OCRx/2561150065</td>\n",
       "      <td>(MALÉATE D'ACÉPROMAZINE ((MALÉATE D'ACÉPROMAZI...</td>\n",
       "    </tr>\n",
       "    <tr>\n",
       "      <th>5</th>\n",
       "      <td>http://www.ocrx.ca/OCRx/2320311874</td>\n",
       "      <td>(MALÉATE D'ACÉPROMAZINE ((MALÉATE D'ACÉPROMAZI...</td>\n",
       "    </tr>\n",
       "    <tr>\n",
       "      <th>...</th>\n",
       "      <td>...</td>\n",
       "      <td>...</td>\n",
       "    </tr>\n",
       "    <tr>\n",
       "      <th>293259</th>\n",
       "      <td>http://www.ocrx.ca/OCRx/2306181773</td>\n",
       "      <td>ÉTHINYLESTRADIOL 2.7 MG | ÉTONOGESTREL 11.7 MG...</td>\n",
       "    </tr>\n",
       "    <tr>\n",
       "      <th>293262</th>\n",
       "      <td>http://www.ocrx.ca/OCRx/1000021146</td>\n",
       "      <td>ÉTHOSUXIMIDE 250 MG/5 ML SOUS FORME DE SIROP P...</td>\n",
       "    </tr>\n",
       "    <tr>\n",
       "      <th>293278</th>\n",
       "      <td>http://www.ocrx.ca/OCRx/2331067000</td>\n",
       "      <td>ÉTONOGESTREL 68 MG SOUS FORME DE IMPLANT PAR V...</td>\n",
       "    </tr>\n",
       "    <tr>\n",
       "      <th>293296</th>\n",
       "      <td>http://www.ocrx.ca/OCRx/1000023041</td>\n",
       "      <td>ÉLAGOLIX (SODIUM DE ÉLAGOLIX) 150 MG SOUS FORM...</td>\n",
       "    </tr>\n",
       "    <tr>\n",
       "      <th>293297</th>\n",
       "      <td>http://www.ocrx.ca/OCRx/1000002074</td>\n",
       "      <td>ÉLAGOLIX (SODIUM DE ÉLAGOLIX) 200 MG SOUS FORM...</td>\n",
       "    </tr>\n",
       "  </tbody>\n",
       "</table>\n",
       "<p>243939 rows × 2 columns</p>\n",
       "</div>"
      ],
      "text/plain": [
       "                                 ocrx_code  \\\n",
       "0       http://www.ocrx.ca/OCRx/2196287095   \n",
       "1       http://www.ocrx.ca/OCRx/2402231607   \n",
       "3       http://www.ocrx.ca/OCRx/1000017403   \n",
       "4       http://www.ocrx.ca/OCRx/2561150065   \n",
       "5       http://www.ocrx.ca/OCRx/2320311874   \n",
       "...                                    ...   \n",
       "293259  http://www.ocrx.ca/OCRx/2306181773   \n",
       "293262  http://www.ocrx.ca/OCRx/1000021146   \n",
       "293278  http://www.ocrx.ca/OCRx/2331067000   \n",
       "293296  http://www.ocrx.ca/OCRx/1000023041   \n",
       "293297  http://www.ocrx.ca/OCRx/1000002074   \n",
       "\n",
       "                                               ocrx_label  \n",
       "0       (CHLORHYDRATE DE MÉTOCLOPRAMIDE MONOHYDRATÉ) 5...  \n",
       "1       (MALÉATE D'ACÉPROMAZINE ((MALÉATE D'ACÉPROMAZI...  \n",
       "3       (MALÉATE D'ACÉPROMAZINE ((MALÉATE D'ACÉPROMAZI...  \n",
       "4       (MALÉATE D'ACÉPROMAZINE ((MALÉATE D'ACÉPROMAZI...  \n",
       "5       (MALÉATE D'ACÉPROMAZINE ((MALÉATE D'ACÉPROMAZI...  \n",
       "...                                                   ...  \n",
       "293259  ÉTHINYLESTRADIOL 2.7 MG | ÉTONOGESTREL 11.7 MG...  \n",
       "293262  ÉTHOSUXIMIDE 250 MG/5 ML SOUS FORME DE SIROP P...  \n",
       "293278  ÉTONOGESTREL 68 MG SOUS FORME DE IMPLANT PAR V...  \n",
       "293296  ÉLAGOLIX (SODIUM DE ÉLAGOLIX) 150 MG SOUS FORM...  \n",
       "293297  ÉLAGOLIX (SODIUM DE ÉLAGOLIX) 200 MG SOUS FORM...  \n",
       "\n",
       "[243939 rows x 2 columns]"
      ]
     },
     "execution_count": 4,
     "metadata": {},
     "output_type": "execute_result"
    }
   ],
   "source": [
    "all_files['ocrx'][('drug','fr')]"
   ]
  },
  {
   "cell_type": "code",
   "execution_count": 19,
   "id": "signed-education",
   "metadata": {},
   "outputs": [],
   "source": [
    "import os\n",
    "DIR = 'match-ocrx-full'\n",
    "\n",
    "from pytrie import Trie\n",
    "def make_trie(df,prefix):\n",
    "#     if len(df.columns) > 2:\n",
    "#         import ipdb; ipdb.set_trace()\n",
    "    code_col, label_col = f\"{prefix}_code\", f\"{prefix}_label\"\n",
    "    return {row[label_col]: row[code_col] for _, row in df.iterrows()}\n",
    "\n",
    "# def make_trie_ansm(ansm_def_df):\n",
    "#     return {row['snomed_label']: row['snomed_code'] for _, row in ansm_def_df.iterrows()}\n",
    "\n",
    "def get_prefix(trie,term):\n",
    "    words = term.split(' ')\n",
    "    for i in reversed(range(1,len(words)+1)):\n",
    "        term = ' '.join(words[:i])\n",
    "        if term in trie:\n",
    "            return (term, trie[term])\n",
    "    return None\n",
    "\n",
    "def print_stats(df_merged,type_fn,dirname,name='rxnorm'):\n",
    "    # total_match\n",
    "    def get_count(df,col):\n",
    "        return df[col].unique().shape[0]\n",
    "    DIR = dirname\n",
    "    prefix_code = f\"{name}_code\"\n",
    "    ocrx_col = \"ocrx_code\"\n",
    "    print(\"TOTAL MATCH:\")\n",
    "    total_df = df_merged.dropna()\n",
    "    print(total_df.head())\n",
    "    print(total_df.shape)\n",
    "    total_df.to_csv(f\"{DIR}/match_{type_fn}_total_match.csv\")\n",
    "    # left missing\n",
    "    print(\"ONLY OCRX\")\n",
    "    only_ocrx = df_merged.loc[df_merged[prefix_code].isna()]\n",
    "    print(only_ocrx.head())\n",
    "    print(only_ocrx.shape)\n",
    "    only_ocrx.to_csv(f\"{DIR}/match_{type_fn}_only_ocrx.csv\")\n",
    "    # right missing\n",
    "    print(f\"ONLY {name.upper()}\")\n",
    "    only_ansm = df_merged.loc[df_merged['ocrx_code'].isna()]\n",
    "    print(only_ansm.head())\n",
    "    print(only_ansm.shape)\n",
    "    stats = {\n",
    "        'total' : total_df.shape[0], 'ocrx' : only_ocrx.shape[0], name: only_ansm.shape[0],\n",
    "        'total_ocrx_unique' : get_count(total_df,ocrx_col) , f'total_{name}_unique' : get_count(total_df,prefix_code), 'ocrx_unique' : get_count(only_ocrx,ocrx_col), f\"{name}_unique\" : get_count(only_ansm,prefix_code)}\n",
    "    only_ansm.to_csv(f\"{DIR}/match_{type_fn}_only_{name}.csv\")\n",
    "    return stats\n",
    "\n",
    "def perform_alignment(df1,df2,fn,dirname,prefix='rxnorm'):\n",
    "    all_stats = dict()\n",
    "    trie1 = make_trie(df1,'ocrx')\n",
    "    trie2 = make_trie(df2,prefix)\n",
    "    fullpath = f\"{dirname}/{prefix}_{fn}_full.csv\"\n",
    "    df_merged = pd.merge(df1,df2,how=\"outer\",left_on=['ocrx_label'], right_on=[f'{prefix}_label'])\n",
    "#     import ipdb; ipdb.set_trace()\n",
    "    df_merged_with_prefix = add_prefixes(df_merged,trie1,trie2,prefix=prefix)\n",
    "#     all_stats[fn] = print_stats(df_merged_with_prefix,fn,dirname,prefix)\n",
    "    df_merged_with_prefix.to_csv(fullpath)\n",
    "    return all_stats\n",
    "\n",
    "def add_prefixes(df,trie,trie_ansm,prefix='rxnorm'):\n",
    "    prefix_code = f\"{prefix}_code\"\n",
    "    prefix_label = f\"{prefix}_label\"\n",
    "    def process_row(row,trie):\n",
    "        if type(row['ocrx_code']) == str and type(row[prefix_code]) == str:\n",
    "            return (row['ocrx_code'], row['ocrx_label'], 'EXACT')\n",
    "        elif str(row['ocrx_code']) == 'nan':\n",
    "            result = get_prefix(trie,row[prefix_label])\n",
    "            if result is None:\n",
    "                return (None, None, 'NONE')\n",
    "            else:\n",
    "                prefix_ocrx, ocrx_code = result\n",
    "                return (ocrx_code, prefix_ocrx, 'PREFIX')\n",
    "        else:\n",
    "            return (row['ocrx_code'], row['ocrx_label'], 'NA')\n",
    "    def process_row_ansm(row,trie):\n",
    "        if type(row['ocrx_code']) == str and type(row[prefix_code]) == str:\n",
    "            return (row[prefix_code], row[prefix_label], 'EXACT')\n",
    "        elif str(row[prefix_code]) == 'nan':\n",
    "            result = get_prefix(trie,row['ocrx_label'])\n",
    "            if result is None:\n",
    "                return (None, None, 'NONE')\n",
    "            else:\n",
    "                prefix_ansm, ansm_code = result\n",
    "                return (ansm_code, prefix_ansm, 'PREFIX')\n",
    "        else:\n",
    "            return (row[prefix_code], row[prefix_label], 'NA')\n",
    "        \n",
    "            \n",
    "#     import ipdb; ipdb.set_trace()\n",
    "#     els = ['ocrx',prefix]\n",
    "#     new_df = df.copy()\n",
    "    match_list = []\n",
    "    for _, row in df.iterrows():\n",
    "        # check if ocrx needs match or other needs match.\n",
    "        if type(row['ocrx_label']) == str and type(row[prefix_label]) != str:\n",
    "             # we don't care about this.\n",
    "            continue\n",
    "        if type(row[prefix_label]) == str and type(row['ocrx_label']) != str:\n",
    "            result = get_prefix(trie,row[prefix_label])\n",
    "            if result is None:\n",
    "                match_list.append((row[prefix_code],row[prefix_label],None,None,'NONE'))\n",
    "            else:\n",
    "                matched_name, matched_code = result\n",
    "                match_list.append((row[prefix_code],row[prefix_label],matched_code, matched_name,'PREFIX'))\n",
    "        if type(row[prefix_label]) == str and type(row['ocrx_label']) == str:\n",
    "            match_list.append((row[prefix_code],row[prefix_label],row['ocrx_code'],row['ocrx_label'],'EXACT'))\n",
    "    new_df = pd.DataFrame(match_list)\n",
    "    new_df.columns = [prefix_code,prefix_label,'ocrx_code','ocrx_label','match_type']\n",
    "    return new_df"
   ]
  },
  {
   "cell_type": "code",
   "execution_count": null,
   "id": "dependent-peter",
   "metadata": {},
   "outputs": [],
   "source": []
  },
  {
   "cell_type": "code",
   "execution_count": 20,
   "id": "assisted-washington",
   "metadata": {},
   "outputs": [],
   "source": [
    "all_files.keys()\n",
    "matched = ['ansm','dailymed','rxnorm','snomed']\n"
   ]
  },
  {
   "cell_type": "code",
   "execution_count": 21,
   "id": "excess-google",
   "metadata": {},
   "outputs": [],
   "source": [
    "hi = dict()\n",
    "hi.update({\"hi\" : \"ho\"})"
   ]
  },
  {
   "cell_type": "code",
   "execution_count": 22,
   "id": "dependent-breakfast",
   "metadata": {},
   "outputs": [
    {
     "data": {
      "text/plain": [
       "{'hi': 'ho'}"
      ]
     },
     "execution_count": 22,
     "metadata": {},
     "output_type": "execute_result"
    }
   ],
   "source": [
    "hi"
   ]
  },
  {
   "cell_type": "code",
   "execution_count": 23,
   "id": "external-reynolds",
   "metadata": {},
   "outputs": [],
   "source": [
    "import re\n",
    "def clean_form_snomed(raw_form_df):\n",
    "    mapping = {\n",
    "        \"EYE\" : \"OPHTALMIC\",\n",
    "        \"EAR\" : \"OTIC\",\n",
    "        \"NOSE\" : \"NASAL\"\n",
    "    }\n",
    "    def sub_form_snomed_helper(form):\n",
    "        return ' '.join([mapping.get(el,el) for el in form.split(\" \")])\n",
    "    form_df = raw_form_df.copy()\n",
    "    form_df['old_snomed_label'] = form_df['snomed_label'].copy()\n",
    "    form_df['snomed_label'] = [sub_form_snomed_helper(el.replace(\" DOSE FORM\",\"\")) for el in form_df['old_snomed_label'].values]\n",
    "    return form_df\n",
    "\n",
    "# def clean_drug_snomed(raw_drug_df):\n",
    "#     ocrx_patt = re.compile('AS (.*) IN (.*)')\n",
    "#     def clean_drug_snomed_helper(drug):\n",
    "        \n",
    "\n",
    "def clean_form_ocrx(raw_form_df):\n",
    "    def clean_form_ocrx_helper(el):\n",
    "        # removes the word in and inverts it\n",
    "        if \" IN \" in el:\n",
    "            splitted = el.split(\" IN \")\n",
    "    #             if len(splitted) > 2:\n",
    "    #                 import ipdb; ipdb.set_trace()\n",
    "            start, last = splitted[:2]\n",
    "            return last + \" \" + start\n",
    "        else:\n",
    "            return el\n",
    "\n",
    "    form_df = raw_form_df.copy()\n",
    "    #     import ipdb; ipdb.set_trace()\n",
    "    form_df['old_ocrx_label'] = form_df['ocrx_label'].copy()\n",
    "    form_df['ocrx_label'] = [clean_form_ocrx_helper(el) for el in form_df['old_ocrx_label'].values]\n",
    "    return form_df\n",
    "\n",
    "helper_fns = {\n",
    "    'snomed' : {('form','en') : {'snomed' : clean_form_snomed, 'ocrx' : clean_form_ocrx}},\n",
    "}"
   ]
  },
  {
   "cell_type": "code",
   "execution_count": 24,
   "id": "synthetic-savage",
   "metadata": {},
   "outputs": [
    {
     "name": "stdout",
     "output_type": "stream",
     "text": [
      "Automatic pdb calling has been turned ON\n"
     ]
    }
   ],
   "source": [
    "%pdb on"
   ]
  },
  {
   "cell_type": "code",
   "execution_count": null,
   "id": "voluntary-serial",
   "metadata": {},
   "outputs": [],
   "source": []
  },
  {
   "cell_type": "code",
   "execution_count": 25,
   "id": "impossible-korea",
   "metadata": {},
   "outputs": [],
   "source": [
    "if not os.path.exists(\"export-match\"):\n",
    "    os.mkdir(\"export-match\")\n",
    "all_stats = dict()\n",
    "for other_prefix in matched:\n",
    "    prefix_stats = dict()\n",
    "    for id_tup, other_df in all_files[other_prefix].items():\n",
    "        if id_tup[0] == 'component' or id_tup[0] == 'drug':\n",
    "            continue\n",
    "#         import ipdb; ipdb.set_trace()\n",
    "#         if id_tup != ('drug','fr'):\n",
    "#             continue\n",
    "#         import ipdb; ipdb.set_trace()\n",
    "        if id_tup not in all_files['ocrx']:\n",
    "            continue\n",
    "        name,lang = id_tup\n",
    "        ocrx_df = all_files['ocrx'][id_tup]\n",
    "        output_dir = f\"export-match/{other_prefix}\"\n",
    "        if not os.path.exists(output_dir):\n",
    "            os.mkdir(output_dir)\n",
    "        if ocrx_df is None:\n",
    "            import ipdb; ipdb.set_trace() \n",
    "#             print(ocrx_df.shape  [0])\n",
    "#             continue\n",
    "        if id_tup in helper_fns.get(other_prefix,dict()):\n",
    "            ocrx_df = helper_fns.get(other_prefix)[id_tup]['ocrx'](ocrx_df)\n",
    "            other_df = helper_fns.get(other_prefix)[id_tup][other_prefix](other_df)\n",
    "#             import ipdb; ipdb.set_trace()\n",
    "        elif name == 'form':\n",
    "            ocrx_df = clean_form_ocrx(ocrx_df)\n",
    "#         import ipdb; ipdb.set_trace()\n",
    "        stats = perform_alignment(ocrx_df,other_df,name,output_dir,prefix=other_prefix)\n",
    "        prefix_stats.update(stats)\n",
    "    all_stats[other_prefix] = prefix_stats"
   ]
  },
  {
   "cell_type": "code",
   "execution_count": null,
   "id": "brutal-irrigation",
   "metadata": {},
   "outputs": [],
   "source": [
    "!code ."
   ]
  },
  {
   "cell_type": "code",
   "execution_count": null,
   "id": "temporal-absolute",
   "metadata": {},
   "outputs": [],
   "source": []
  },
  {
   "cell_type": "code",
   "execution_count": 26,
   "id": "typical-directive",
   "metadata": {},
   "outputs": [
    {
     "name": "stdout",
     "output_type": "stream",
     "text": [
      "{'ansm': {}, 'dailymed': {}, 'rxnorm': {}, 'snomed': {}}\n"
     ]
    }
   ],
   "source": [
    "from pprint import pprint\n",
    "pprint(all_stats)"
   ]
  },
  {
   "cell_type": "markdown",
   "id": "attractive-pound",
   "metadata": {},
   "source": [
    "```json\n",
    "{'ansm': {'active_ingredient': {'ansm': 1753, 'ocrx': 315431, 'total': 120077},\n",
    "          'drug': {'ansm': 15695, 'ocrx': 293298, 'total': 0},\n",
    "          'form': {'ansm': 74, 'ocrx': 247, 'total': 600},\n",
    "          'roa': {'ansm': 40, 'ocrx': 71, 'total': 27}},\n",
    " 'dailymed': {'active_ingredient': {'dailymed': 554,\n",
    "                                    'ocrx': 1199306,\n",
    "                                    'total': 222566},\n",
    "              'drug': {'dailymed': 45828, 'ocrx': 578640, 'total': 133066},\n",
    "              'form': {'dailymed': 80, 'ocrx': 798, 'total': 50},\n",
    "              'roa': {'dailymed': 30, 'ocrx': 50, 'total': 48}},\n",
    " 'rxnorm': {'active_ingredient': {'ocrx': 1091070,\n",
    "                                  'rxnorm': 10878,\n",
    "                                  'total': 330801},\n",
    "            'component': {'ocrx': 1479332, 'rxnorm': 11613, 'total': 14270},\n",
    "            'drug': {'ocrx': 711706, 'rxnorm': 17274, 'total': 0},\n",
    "            'form': {'ocrx': 806, 'rxnorm': 5, 'total': 41},\n",
    "            'roa': {'ocrx': 77, 'rxnorm': 10, 'total': 21}},\n",
    " 'snomed': {'active_ingredient': {'ocrx': 1050462,\n",
    "                                  'snomed': 21076,\n",
    "                                  'total': 371409},\n",
    "            'drug': {'ocrx': 711706, 'snomed': 7894, 'total': 0},\n",
    "            'form': {'ocrx': 606, 'snomed': 263, 'total': 61},\n",
    "            'roa': {'ocrx': 80, 'snomed': 14, 'total': 18}}}\n",
    "```"
   ]
  },
  {
   "cell_type": "markdown",
   "id": "oriental-protocol",
   "metadata": {},
   "source": [
    "# Part 2"
   ]
  },
  {
   "cell_type": "code",
   "execution_count": 5,
   "id": "quarterly-plane",
   "metadata": {},
   "outputs": [
    {
     "data": {
      "text/plain": [
       "2"
      ]
     },
     "execution_count": 5,
     "metadata": {},
     "output_type": "execute_result"
    }
   ],
   "source": [
    "1+1"
   ]
  },
  {
   "cell_type": "code",
   "execution_count": 27,
   "id": "japanese-rehabilitation",
   "metadata": {},
   "outputs": [],
   "source": [
    "def count_for_prefix(df,prefix,match_type):\n",
    "    match_type_col_name = f\"{prefix}_match_type\"\n",
    "    label_name = f\"{prefix}_label\"\n",
    "    \n",
    "    \n",
    "    sub_df = df.dropna(subset=['ocrx_label',label_name])\n",
    "#     import ipdb; ipdb.set_trace()\n",
    "    counts = [el.shape[0] for _, el in sub_df.groupby(label_name)]\n",
    "    count_1 = sum([1 if count == 1 else 0 for count in counts])\n",
    "    count_n = sum([1 if count > 1 else 0 for count in counts])\n",
    "    return {'1-1' : count_1, '1-n' : count_n}\n",
    "def analyze_df(df,prefix):\n",
    "    stats = dict()\n",
    "    ocrx_match_type = \"ocrx_match_type\"\n",
    "    prefix_match_type = f\"{prefix}_match_type\"\n",
    "    match_types = ['EXACT','PREFIX']\n",
    "    prefix_options = ['ocrx',prefix]\n",
    "    import ipdb; ipdb.set_trace()\n",
    "    for prefix_el in prefix_options:\n",
    "        for match_type_el in match_types:\n",
    "            stats[prefix+'-'+match_type_el] = count_for_prefix(df,prefix_el,match_type_el)\n",
    "    return stats"
   ]
  },
  {
   "cell_type": "code",
   "execution_count": 42,
   "id": "employed-elder",
   "metadata": {},
   "outputs": [],
   "source": [
    "def calculate_stats(df,prefix,match_type = None):\n",
    "    # removes na match for alternative spelling of labels\n",
    "    label_col = f'{prefix}_label'\n",
    "    code_col = f'{prefix}_code'\n",
    "\n",
    "    not_na_df = df.dropna(subset=['ocrx_label',label_col])\n",
    "    if match_type is not None:\n",
    "        not_na_df = not_na_df.loc[not_na_df['match_type'] == match_type]\n",
    "#     if match_type is not None:\n",
    "#         import ipdb; ipdb.set_trace()\n",
    "#         not_na_df = not_na_df.loc[not_na_df['ocrx_match_type'] == match_type]\n",
    "    counts = [len(el['ocrx_code'].unique()) for _, el in not_na_df.groupby(code_col)]\n",
    "    count_1 = sum([1 if count == 1 else 0 for count in counts])\n",
    "    count_n = sum([1 if count > 1 else 0 for count in counts])\n",
    "    \n",
    "    unique_other_ids = set(not_na_df[code_col].values)\n",
    "    unique_ocrx_ids = set(not_na_df['ocrx_code'].values)\n",
    "    na_df = df[df['ocrx_label'].isna()]\n",
    "    filtered = [row[code_col] not in unique_other_ids for _, row in na_df.iterrows()]\n",
    "    count_0 = len(df.loc[df['match_type'] == 'NONE'][code_col].unique())\n",
    "#     assert count_0 == len(df[code_col].unique()) - count_1 - count_n\n",
    "    if len(filtered) != len(na_df):\n",
    "        import ipdb; ipdb.set_trace()\n",
    "    return {'a1-n' : count_n, 'b1-1' : count_1,'c1-0' : count_0 }\n",
    "    "
   ]
  },
  {
   "cell_type": "code",
   "execution_count": 43,
   "id": "specified-spelling",
   "metadata": {},
   "outputs": [],
   "source": [
    "import os\n",
    "from os.path import join as pjoin"
   ]
  },
  {
   "cell_type": "code",
   "execution_count": 49,
   "id": "round-trunk",
   "metadata": {},
   "outputs": [
    {
     "name": "stdout",
     "output_type": "stream",
     "text": [
      "Automatic pdb calling has been turned ON\n"
     ]
    }
   ],
   "source": [
    "%pdb on\n",
    "import pandas as pd\n",
    "folders = ['ansm','dailymed','snomed','rxnorm']\n",
    "dirname = 'export-match'\n",
    "dfs = dict()\n",
    "stats = dict()\n",
    "for folder in folders:\n",
    "    fullfolder = pjoin(dirname,folder)\n",
    "    for filename in os.listdir(fullfolder):\n",
    "        if filename.endswith(\"_full.csv\") and 'drug' not in filename and 'component' not in filename:\n",
    "            name = filename.split(\"_\")[0]\n",
    "            if name not in dfs:\n",
    "                dfs[name] = dict()\n",
    "            tag = \"_\".join(filename.split(\"_\")[1:-1])\n",
    "            fullfile = pjoin(fullfolder,filename)\n",
    "            test_df = pd.read_csv(fullfile,index_col=False)\n",
    "            mode = ['PREFIX','EXACT']\n",
    "            for mode_el in mode:\n",
    "                single_stats = calculate_stats(test_df,folder,mode_el)\n",
    "                stats[filename+'-'+mode_el] = single_stats\n",
    "            stats[filename] = calculate_stats(test_df,folder)\n",
    "#             no_match = df[df['ocrx_code'].isna()][folder+\"_code\"].unique().shape[0]\n",
    "            dfs[name][tag] = test_df\n",
    "                "
   ]
  },
  {
   "cell_type": "code",
   "execution_count": 50,
   "id": "internal-sympathy",
   "metadata": {},
   "outputs": [
    {
     "data": {
      "text/plain": [
       "dict_keys(['ansm_strength_full.csv-PREFIX', 'ansm_strength_full.csv-EXACT', 'ansm_strength_full.csv', 'ansm_form_full.csv-PREFIX', 'ansm_form_full.csv-EXACT', 'ansm_form_full.csv', 'ansm_roa_full.csv-PREFIX', 'ansm_roa_full.csv-EXACT', 'ansm_roa_full.csv', 'ansm_active_ingredient_full.csv-PREFIX', 'ansm_active_ingredient_full.csv-EXACT', 'ansm_active_ingredient_full.csv', 'dailymed_roa_full.csv-PREFIX', 'dailymed_roa_full.csv-EXACT', 'dailymed_roa_full.csv', 'dailymed_strength_full.csv-PREFIX', 'dailymed_strength_full.csv-EXACT', 'dailymed_strength_full.csv', 'dailymed_form_full.csv-PREFIX', 'dailymed_form_full.csv-EXACT', 'dailymed_form_full.csv', 'dailymed_active_ingredient_full.csv-PREFIX', 'dailymed_active_ingredient_full.csv-EXACT', 'dailymed_active_ingredient_full.csv', 'snomed_roa_full.csv-PREFIX', 'snomed_roa_full.csv-EXACT', 'snomed_roa_full.csv', 'snomed_form_full.csv-PREFIX', 'snomed_form_full.csv-EXACT', 'snomed_form_full.csv', 'snomed_active_ingredient_full.csv-PREFIX', 'snomed_active_ingredient_full.csv-EXACT', 'snomed_active_ingredient_full.csv', 'rxnorm_roa_full.csv-PREFIX', 'rxnorm_roa_full.csv-EXACT', 'rxnorm_roa_full.csv', 'rxnorm_active_ingredient_full.csv-PREFIX', 'rxnorm_active_ingredient_full.csv-EXACT', 'rxnorm_active_ingredient_full.csv', 'rxnorm_form_full.csv-PREFIX', 'rxnorm_form_full.csv-EXACT', 'rxnorm_form_full.csv'])"
      ]
     },
     "execution_count": 50,
     "metadata": {},
     "output_type": "execute_result"
    }
   ],
   "source": [
    "stats.keys()"
   ]
  },
  {
   "cell_type": "code",
   "execution_count": 51,
   "id": "upper-norman",
   "metadata": {},
   "outputs": [
    {
     "data": {
      "text/plain": [
       "{'ansm_strength_full.csv-PREFIX': {'a1-n': 0, 'b1-1': 1294, 'c1-0': 5648},\n",
       " 'ansm_strength_full.csv-EXACT': {'a1-n': 0, 'b1-1': 0, 'c1-0': 5648},\n",
       " 'ansm_strength_full.csv': {'a1-n': 0, 'b1-1': 1294, 'c1-0': 5648},\n",
       " 'ansm_form_full.csv-PREFIX': {'a1-n': 0, 'b1-1': 298, 'c1-0': 74},\n",
       " 'ansm_form_full.csv-EXACT': {'a1-n': 0, 'b1-1': 25, 'c1-0': 74},\n",
       " 'ansm_form_full.csv': {'a1-n': 0, 'b1-1': 323, 'c1-0': 74},\n",
       " 'ansm_roa_full.csv-PREFIX': {'a1-n': 0, 'b1-1': 1, 'c1-0': 40},\n",
       " 'ansm_roa_full.csv-EXACT': {'a1-n': 0, 'b1-1': 27, 'c1-0': 40},\n",
       " 'ansm_roa_full.csv': {'a1-n': 0, 'b1-1': 28, 'c1-0': 40},\n",
       " 'ansm_active_ingredient_full.csv-PREFIX': {'a1-n': 0,\n",
       "  'b1-1': 1241,\n",
       "  'c1-0': 1532},\n",
       " 'ansm_active_ingredient_full.csv-EXACT': {'a1-n': 7,\n",
       "  'b1-1': 1136,\n",
       "  'c1-0': 1532},\n",
       " 'ansm_active_ingredient_full.csv': {'a1-n': 7, 'b1-1': 2377, 'c1-0': 1532},\n",
       " 'dailymed_roa_full.csv-PREFIX': {'a1-n': 0, 'b1-1': 0, 'c1-0': 30},\n",
       " 'dailymed_roa_full.csv-EXACT': {'a1-n': 0, 'b1-1': 42, 'c1-0': 30},\n",
       " 'dailymed_roa_full.csv': {'a1-n': 0, 'b1-1': 42, 'c1-0': 30},\n",
       " 'dailymed_strength_full.csv-PREFIX': {'a1-n': 0, 'b1-1': 934, 'c1-0': 1547},\n",
       " 'dailymed_strength_full.csv-EXACT': {'a1-n': 0, 'b1-1': 271, 'c1-0': 1547},\n",
       " 'dailymed_strength_full.csv': {'a1-n': 0, 'b1-1': 1205, 'c1-0': 1547},\n",
       " 'dailymed_form_full.csv-PREFIX': {'a1-n': 0, 'b1-1': 1, 'c1-0': 80},\n",
       " 'dailymed_form_full.csv-EXACT': {'a1-n': 0, 'b1-1': 41, 'c1-0': 80},\n",
       " 'dailymed_form_full.csv': {'a1-n': 0, 'b1-1': 42, 'c1-0': 80},\n",
       " 'dailymed_active_ingredient_full.csv-PREFIX': {'a1-n': 0,\n",
       "  'b1-1': 345,\n",
       "  'c1-0': 616},\n",
       " 'dailymed_active_ingredient_full.csv-EXACT': {'a1-n': 4,\n",
       "  'b1-1': 3002,\n",
       "  'c1-0': 616},\n",
       " 'dailymed_active_ingredient_full.csv': {'a1-n': 4, 'b1-1': 3347, 'c1-0': 616},\n",
       " 'snomed_roa_full.csv-PREFIX': {'a1-n': 0, 'b1-1': 0, 'c1-0': 14},\n",
       " 'snomed_roa_full.csv-EXACT': {'a1-n': 0, 'b1-1': 17, 'c1-0': 14},\n",
       " 'snomed_roa_full.csv': {'a1-n': 0, 'b1-1': 17, 'c1-0': 14},\n",
       " 'snomed_form_full.csv-PREFIX': {'a1-n': 0, 'b1-1': 122, 'c1-0': 263},\n",
       " 'snomed_form_full.csv-EXACT': {'a1-n': 0, 'b1-1': 61, 'c1-0': 263},\n",
       " 'snomed_form_full.csv': {'a1-n': 0, 'b1-1': 183, 'c1-0': 263},\n",
       " 'snomed_active_ingredient_full.csv-PREFIX': {'a1-n': 0,\n",
       "  'b1-1': 2826,\n",
       "  'c1-0': 21076},\n",
       " 'snomed_active_ingredient_full.csv-EXACT': {'a1-n': 6,\n",
       "  'b1-1': 3283,\n",
       "  'c1-0': 21076},\n",
       " 'snomed_active_ingredient_full.csv': {'a1-n': 6, 'b1-1': 6109, 'c1-0': 21076},\n",
       " 'rxnorm_roa_full.csv-PREFIX': {'a1-n': 0, 'b1-1': 0, 'c1-0': 10},\n",
       " 'rxnorm_roa_full.csv-EXACT': {'a1-n': 0, 'b1-1': 17, 'c1-0': 10},\n",
       " 'rxnorm_roa_full.csv': {'a1-n': 0, 'b1-1': 17, 'c1-0': 10},\n",
       " 'rxnorm_active_ingredient_full.csv-PREFIX': {'a1-n': 0,\n",
       "  'b1-1': 2837,\n",
       "  'c1-0': 10878},\n",
       " 'rxnorm_active_ingredient_full.csv-EXACT': {'a1-n': 6,\n",
       "  'b1-1': 3591,\n",
       "  'c1-0': 10878},\n",
       " 'rxnorm_active_ingredient_full.csv': {'a1-n': 6, 'b1-1': 6428, 'c1-0': 10878},\n",
       " 'rxnorm_form_full.csv-PREFIX': {'a1-n': 0, 'b1-1': 12, 'c1-0': 5},\n",
       " 'rxnorm_form_full.csv-EXACT': {'a1-n': 0, 'b1-1': 38, 'c1-0': 5},\n",
       " 'rxnorm_form_full.csv': {'a1-n': 0, 'b1-1': 50, 'c1-0': 5}}"
      ]
     },
     "execution_count": 51,
     "metadata": {},
     "output_type": "execute_result"
    }
   ],
   "source": [
    "stats"
   ]
  },
  {
   "cell_type": "code",
   "execution_count": 53,
   "id": "concrete-hostel",
   "metadata": {},
   "outputs": [
    {
     "name": "stdout",
     "output_type": "stream",
     "text": [
      "NOW DOING rxnorm\n",
      "active_ingredient: {'a1-n': 6, 'b1-1': 6428, 'c1-0': 10878}\n",
      "form: {'a1-n': 0, 'b1-1': 50, 'c1-0': 5}\n",
      "roa: {'a1-n': 0, 'b1-1': 17, 'c1-0': 10}\n",
      "NOW DOING snomed\n",
      "active_ingredient: {'a1-n': 6, 'b1-1': 6109, 'c1-0': 21076}\n",
      "form: {'a1-n': 0, 'b1-1': 183, 'c1-0': 263}\n",
      "roa: {'a1-n': 0, 'b1-1': 17, 'c1-0': 14}\n",
      "NOW DOING ansm\n",
      "active_ingredient: {'a1-n': 7, 'b1-1': 2377, 'c1-0': 1532}\n",
      "strength: {'a1-n': 0, 'b1-1': 1294, 'c1-0': 5648}\n",
      "form: {'a1-n': 0, 'b1-1': 323, 'c1-0': 74}\n",
      "roa: {'a1-n': 0, 'b1-1': 28, 'c1-0': 40}\n"
     ]
    }
   ],
   "source": [
    "from pprint import pprint\n",
    "# pprint(stats)\n",
    "\n",
    "tables = ['rxnorm','snomed','ansm']\n",
    "terms = ['active_ingredient','strength','form','roa']\n",
    "for table in tables:\n",
    "    print(f\"NOW DOING {table}\")\n",
    "    for term in terms:\n",
    "       \n",
    "        filename = f\"{table}_{term}_full.csv\"\n",
    "        if filename not in stats:\n",
    "            continue\n",
    "        print(term  +  \": \" + str(stats[filename]))"
   ]
  },
  {
   "cell_type": "code",
   "execution_count": 52,
   "id": "radical-village",
   "metadata": {},
   "outputs": [
    {
     "name": "stdout",
     "output_type": "stream",
     "text": [
      "NOW DOING rxnorm\n",
      "active_ingredient-EXACT: {'a1-n': 6, 'b1-1': 3591, 'c1-0': 10878}\n",
      "active_ingredient-PREFIX: {'a1-n': 0, 'b1-1': 2837, 'c1-0': 10878}\n",
      "form-EXACT: {'a1-n': 0, 'b1-1': 38, 'c1-0': 5}\n",
      "form-PREFIX: {'a1-n': 0, 'b1-1': 12, 'c1-0': 5}\n",
      "roa-EXACT: {'a1-n': 0, 'b1-1': 17, 'c1-0': 10}\n",
      "roa-PREFIX: {'a1-n': 0, 'b1-1': 0, 'c1-0': 10}\n",
      "NOW DOING snomed\n",
      "active_ingredient-EXACT: {'a1-n': 6, 'b1-1': 3283, 'c1-0': 21076}\n",
      "active_ingredient-PREFIX: {'a1-n': 0, 'b1-1': 2826, 'c1-0': 21076}\n",
      "form-EXACT: {'a1-n': 0, 'b1-1': 61, 'c1-0': 263}\n",
      "form-PREFIX: {'a1-n': 0, 'b1-1': 122, 'c1-0': 263}\n",
      "roa-EXACT: {'a1-n': 0, 'b1-1': 17, 'c1-0': 14}\n",
      "roa-PREFIX: {'a1-n': 0, 'b1-1': 0, 'c1-0': 14}\n",
      "NOW DOING ansm\n",
      "active_ingredient-EXACT: {'a1-n': 7, 'b1-1': 1136, 'c1-0': 1532}\n",
      "active_ingredient-PREFIX: {'a1-n': 0, 'b1-1': 1241, 'c1-0': 1532}\n",
      "strength-EXACT: {'a1-n': 0, 'b1-1': 0, 'c1-0': 5648}\n",
      "strength-PREFIX: {'a1-n': 0, 'b1-1': 1294, 'c1-0': 5648}\n",
      "form-EXACT: {'a1-n': 0, 'b1-1': 25, 'c1-0': 74}\n",
      "form-PREFIX: {'a1-n': 0, 'b1-1': 298, 'c1-0': 74}\n",
      "roa-EXACT: {'a1-n': 0, 'b1-1': 27, 'c1-0': 40}\n",
      "roa-PREFIX: {'a1-n': 0, 'b1-1': 1, 'c1-0': 40}\n"
     ]
    }
   ],
   "source": [
    "from pprint import pprint\n",
    "# pprint(stats)\n",
    "\n",
    "tables = ['rxnorm','snomed','ansm']\n",
    "terms = ['active_ingredient','strength','form','roa']\n",
    "for table in tables:\n",
    "    print(f\"NOW DOING {table}\")\n",
    "    for term in terms:\n",
    "        for mode in ['EXACT','PREFIX']:\n",
    "            filename = f\"{table}_{term}_full.csv-{mode}\"\n",
    "            if filename not in stats:\n",
    "                continue\n",
    "            print(term + '-'+ mode +  \": \" + str(stats[filename]))"
   ]
  },
  {
   "cell_type": "code",
   "execution_count": null,
   "id": "documented-mailman",
   "metadata": {},
   "outputs": [],
   "source": [
    "dfs"
   ]
  },
  {
   "cell_type": "code",
   "execution_count": null,
   "id": "substantial-norman",
   "metadata": {},
   "outputs": [],
   "source": [
    "analyze_df(dfs['rxnorm']['active_ingredient'],'rxnorm')"
   ]
  },
  {
   "cell_type": "code",
   "execution_count": null,
   "id": "obvious-doubt",
   "metadata": {},
   "outputs": [],
   "source": [
    "dfs['rxnorm']['active_ingredient']['ocrx_match_type'].value_counts()"
   ]
  },
  {
   "cell_type": "code",
   "execution_count": null,
   "id": "broken-white",
   "metadata": {},
   "outputs": [],
   "source": [
    "test_df = dfs['rxnorm']['active_ingredient']\n",
    "test_df.loc[test_df['rxnorm_match_type'] == 'PREFIX']\n",
    "# dfs['rxnorm']['active_ingredient']['rxnorm_match_type'].value_counts()"
   ]
  },
  {
   "cell_type": "code",
   "execution_count": null,
   "id": "graphic-enzyme",
   "metadata": {},
   "outputs": [],
   "source": []
  }
 ],
 "metadata": {
  "kernelspec": {
   "display_name": "Python 3",
   "language": "python",
   "name": "python3"
  },
  "language_info": {
   "codemirror_mode": {
    "name": "ipython",
    "version": 3
   },
   "file_extension": ".py",
   "mimetype": "text/x-python",
   "name": "python",
   "nbconvert_exporter": "python",
   "pygments_lexer": "ipython3",
   "version": "3.7.7"
  }
 },
 "nbformat": 4,
 "nbformat_minor": 5
}
