{
 "cells": [
  {
   "cell_type": "code",
   "execution_count": 1,
   "id": "following-hudson",
   "metadata": {},
   "outputs": [],
   "source": [
    "import pandas as pd\n",
    "import pickle\n",
    "import ast\n",
    "raw_df = pd.read_csv(\"all_drugs_ade_indications_updated.csv\")\n",
    "all_compos = None\n",
    "with open('dailymed_all_drugs.pickle',\"rb\") as f:\n",
    "    all_compos = pickle.load(f)"
   ]
  },
  {
   "cell_type": "code",
   "execution_count": 16,
   "id": "central-brazil",
   "metadata": {},
   "outputs": [],
   "source": [
    "def remove_dupes(list_dict):\n",
    "    if type(list_dict) != list:\n",
    "        return []\n",
    "    code_ids = set()\n",
    "    new_list = []\n",
    "    for el_dict in list_dict:\n",
    "        if el_dict['code'] not in code_ids:\n",
    "            new_list.append(el_dict)\n",
    "            code_ids.add(el_dict['code'])\n",
    "    return new_list\n",
    "\n",
    "def clean_column(col):\n",
    "    return [ remove_dupes(ast.literal_eval(str(el))) if str(el) != 'nan' else None for el in col.values]\n",
    "\n",
    "def clean_columns(old_df,cols):\n",
    "    df = old_df.dropna(subset=['drug','form','roa']).copy()\n",
    "    for col in cols:\n",
    "        df[col] = clean_column(df[col])\n",
    "    return df"
   ]
  },
  {
   "cell_type": "code",
   "execution_count": 17,
   "id": "optical-browser",
   "metadata": {},
   "outputs": [],
   "source": [
    "xml_lookup_compos = {xml_file : compos for xml_file, compos in all_compos}"
   ]
  },
  {
   "cell_type": "code",
   "execution_count": 18,
   "id": "banner-province",
   "metadata": {},
   "outputs": [
    {
     "name": "stdout",
     "output_type": "stream",
     "text": [
      "Automatic pdb calling has been turned OFF\n"
     ]
    }
   ],
   "source": [
    "%pdb off\n",
    "df = clean_columns(raw_df,['active_ingredient', 'form', 'roa'])"
   ]
  },
  {
   "cell_type": "code",
   "execution_count": 19,
   "id": "systematic-market",
   "metadata": {},
   "outputs": [],
   "source": [
    "df['compos'] = [xml_lookup_compos[fn] for fn in df['filename']]"
   ]
  },
  {
   "cell_type": "code",
   "execution_count": 20,
   "id": "competitive-location",
   "metadata": {},
   "outputs": [
    {
     "data": {
      "text/plain": [
       "array([list([('ETHINYL ESTRADIOL', '423D2T571U ||| 2.16.840.1.113883.4.9', '0.025 mg'), ('NORETHINDRONE', 'T18F433X4S ||| 2.16.840.1.113883.4.9', '0.8 mg')]),\n",
       "       list([('ENTECAVIR', '5968Y6H45M ||| 2.16.840.1.113883.4.9', '0.5 mg')]),\n",
       "       list([('POTASSIUM BICARBONATE', 'HM5Z15LEBN ||| 2.16.840.1.113883.4.9', '25 meq')]),\n",
       "       ...,\n",
       "       list([('Amphetamine Sulfate', '6DPV8NK46S ||| 2.16.840.1.113883.4.9', '5 mg')]),\n",
       "       list([('SILDENAFIL CITRATE', 'BW9B0ZE037 ||| 2.16.840.1.113883.4.9', '20 mg')]),\n",
       "       list([('NORETHINDRONE', 'T18F433X4S ||| 2.16.840.1.113883.4.9', '1 mg'), ('ETHINYL ESTRADIOL', '423D2T571U ||| 2.16.840.1.113883.4.9', '0.035 mg')])],\n",
       "      dtype=object)"
      ]
     },
     "execution_count": 20,
     "metadata": {},
     "output_type": "execute_result"
    }
   ],
   "source": [
    "df['compos'].values"
   ]
  },
  {
   "cell_type": "code",
   "execution_count": 21,
   "id": "cognitive-pastor",
   "metadata": {},
   "outputs": [
    {
     "data": {
      "text/plain": [
       "Unnamed: 0                                                             0\n",
       "author                                        Mylan Pharmaceuticals Inc.\n",
       "drug                   NORETHINDRONE AND ETHINYL ESTRADIOL AND FERROU...\n",
       "active_ingredient      [{'name': 'ETHINYL ESTRADIOL', 'code': '423D2T...\n",
       "code                                                           0378-7308\n",
       "filename               prescription/20180315_c89388f0-ffe4-4058-a644-...\n",
       "form                                 [{'name': 'KIT', 'code': 'C47916'}]\n",
       "roa                                 [{'name': 'ORAL', 'code': 'C38288'}]\n",
       "adverse_events_list    ['Serious cardiovascular events and smoking \\n...\n",
       "adverse_events         6 ADVERSE REACTIONS\\nThe most common adverse r...\n",
       "indications            1 INDICATIONS AND USAGE\\nNorethindrone and eth...\n",
       "active_ingredients                                                   NaN\n",
       "numerator_name                                                       NaN\n",
       "numerator_val                                                        NaN\n",
       "denominator_name                                                     NaN\n",
       "denominator_val                                                      NaN\n",
       "compos                 [(ETHINYL ESTRADIOL, 423D2T571U ||| 2.16.840.1...\n",
       "Name: 0, dtype: object"
      ]
     },
     "execution_count": 21,
     "metadata": {},
     "output_type": "execute_result"
    }
   ],
   "source": [
    "df.iloc[0]"
   ]
  },
  {
   "cell_type": "code",
   "execution_count": 22,
   "id": "wired-budget",
   "metadata": {},
   "outputs": [
    {
     "data": {
      "text/plain": [
       "[{'name': 'ORAL', 'code': 'C38288'}]"
      ]
     },
     "execution_count": 22,
     "metadata": {},
     "output_type": "execute_result"
    }
   ],
   "source": [
    "df.iloc[0]['roa']"
   ]
  },
  {
   "cell_type": "code",
   "execution_count": 23,
   "id": "altered-blair",
   "metadata": {},
   "outputs": [],
   "source": [
    "def construct_drug_name(row):\n",
    "    form = row['form'][0]['name']\n",
    "    roa = row['roa'][0]['name']\n",
    "    start = ' | '.join([f'{drug} {strength}' for drug, _, strength in row['compos']])\n",
    "    drug_name = start\n",
    "    if form is not None:\n",
    "        drug_name += f\" WITH FORM OF {form}\"\n",
    "    if roa is not None:\n",
    "        drug_name += f\" WITH ROA OF {roa}\"\n",
    "    return drug_name.upper()"
   ]
  },
  {
   "cell_type": "code",
   "execution_count": 56,
   "id": "general-victoria",
   "metadata": {},
   "outputs": [],
   "source": [
    "def export_vocab(df,column,term):\n",
    "    mylist = []\n",
    "    for val in df[column]:\n",
    "        if type(val) == list:\n",
    "            for el in val:\n",
    "                 mylist.append((el['code'],el['name']))\n",
    "    new_df = pd.DataFrame(mylist)\n",
    "  \n",
    "    new_df.columns = ['dailymed_code','dailymed_label']\n",
    "    new_df = new_df.sort_values('dailymed_label')\n",
    "    filename = f\"export/dailymed_{term}_en.csv\"\n",
    "    new_df.to_csv(filename,index=False)"
   ]
  },
  {
   "cell_type": "code",
   "execution_count": 57,
   "id": "complicated-intelligence",
   "metadata": {},
   "outputs": [],
   "source": [
    "def sc(somelist,key=lambda el: el):\n",
    "    return sorted(list(set(somelist)),key=key)\n",
    "\n",
    "def make_df_from_sc(sorted_list):\n",
    "    df = pd.DataFrame()\n",
    "    df['dailymed_code'] = [i for i in range(len(sorted_list))]\n",
    "    df['dailymed_label'] = [el.upper() for el in sorted_list]\n",
    "    return df\n",
    "def construct_vocab_for_compos(compos):\n",
    "    unique_compos = {el for _, val in compos for el in val}\n",
    "    unique_compos_str = sc({f\"{el[0]} {el[2]}\" for el in unique_compos})\n",
    "    unique_strengths = sc({el[2] for el in unique_compos})\n",
    "    unique_active_ingredients = sc({el[0] for el in unique_compos})\n",
    "    return unique_compos_str, unique_strengths, unique_active_ingredients\n",
    "\n",
    "names = ['component','strength','active_ingredient']\n",
    "corresponding_dfs = [make_df_from_sc(el) for el in construct_vocab_for_compos(all_compos)]\n"
   ]
  },
  {
   "cell_type": "code",
   "execution_count": 58,
   "id": "intended-dayton",
   "metadata": {},
   "outputs": [],
   "source": [
    "for name, corresponding_df in zip(names,corresponding_dfs):\n",
    "    corresponding_df.to_csv(f'export/dailymed_{name}_en.csv',index=False)"
   ]
  },
  {
   "cell_type": "code",
   "execution_count": 59,
   "id": "junior-exemption",
   "metadata": {},
   "outputs": [
    {
     "data": {
      "text/html": [
       "<div>\n",
       "<style scoped>\n",
       "    .dataframe tbody tr th:only-of-type {\n",
       "        vertical-align: middle;\n",
       "    }\n",
       "\n",
       "    .dataframe tbody tr th {\n",
       "        vertical-align: top;\n",
       "    }\n",
       "\n",
       "    .dataframe thead th {\n",
       "        text-align: right;\n",
       "    }\n",
       "</style>\n",
       "<table border=\"1\" class=\"dataframe\">\n",
       "  <thead>\n",
       "    <tr style=\"text-align: right;\">\n",
       "      <th></th>\n",
       "      <th>dailymed_code</th>\n",
       "      <th>dailymed_label</th>\n",
       "    </tr>\n",
       "  </thead>\n",
       "  <tbody>\n",
       "    <tr>\n",
       "      <th>0</th>\n",
       "      <td>0</td>\n",
       "      <td>.ALPHA.-TOCOPHEROL SUCCINATE, D-  30 [IU]</td>\n",
       "    </tr>\n",
       "    <tr>\n",
       "      <th>1</th>\n",
       "      <td>1</td>\n",
       "      <td>.ALPHA.-TOCOPHEROL 10 [IU]</td>\n",
       "    </tr>\n",
       "    <tr>\n",
       "      <th>2</th>\n",
       "      <td>2</td>\n",
       "      <td>.ALPHA.-TOCOPHEROL 15 [IU]</td>\n",
       "    </tr>\n",
       "    <tr>\n",
       "      <th>3</th>\n",
       "      <td>3</td>\n",
       "      <td>.ALPHA.-TOCOPHEROL 20 [IU]</td>\n",
       "    </tr>\n",
       "    <tr>\n",
       "      <th>4</th>\n",
       "      <td>4</td>\n",
       "      <td>.ALPHA.-TOCOPHEROL 30 [IU]</td>\n",
       "    </tr>\n",
       "    <tr>\n",
       "      <th>...</th>\n",
       "      <td>...</td>\n",
       "      <td>...</td>\n",
       "    </tr>\n",
       "    <tr>\n",
       "      <th>10004</th>\n",
       "      <td>10004</td>\n",
       "      <td>ZOLMITRIPTAN 2.5 MG</td>\n",
       "    </tr>\n",
       "    <tr>\n",
       "      <th>10005</th>\n",
       "      <td>10005</td>\n",
       "      <td>ZOLPIDEM TARTRATE 1.75 MG</td>\n",
       "    </tr>\n",
       "    <tr>\n",
       "      <th>10006</th>\n",
       "      <td>10006</td>\n",
       "      <td>ZOLPIDEM TARTRATE 12.5 MG</td>\n",
       "    </tr>\n",
       "    <tr>\n",
       "      <th>10007</th>\n",
       "      <td>10007</td>\n",
       "      <td>ZOLPIDEM TARTRATE 5 MG</td>\n",
       "    </tr>\n",
       "    <tr>\n",
       "      <th>10008</th>\n",
       "      <td>10008</td>\n",
       "      <td>ZOLPIDEM TARTRATE 6.25 MG</td>\n",
       "    </tr>\n",
       "  </tbody>\n",
       "</table>\n",
       "<p>10009 rows × 2 columns</p>\n",
       "</div>"
      ],
      "text/plain": [
       "       dailymed_code                              dailymed_label\n",
       "0                  0   .ALPHA.-TOCOPHEROL SUCCINATE, D-  30 [IU]\n",
       "1                  1                  .ALPHA.-TOCOPHEROL 10 [IU]\n",
       "2                  2                  .ALPHA.-TOCOPHEROL 15 [IU]\n",
       "3                  3                  .ALPHA.-TOCOPHEROL 20 [IU]\n",
       "4                  4                  .ALPHA.-TOCOPHEROL 30 [IU]\n",
       "...              ...                                         ...\n",
       "10004          10004                         ZOLMITRIPTAN 2.5 MG\n",
       "10005          10005                   ZOLPIDEM TARTRATE 1.75 MG\n",
       "10006          10006                   ZOLPIDEM TARTRATE 12.5 MG\n",
       "10007          10007                      ZOLPIDEM TARTRATE 5 MG\n",
       "10008          10008                   ZOLPIDEM TARTRATE 6.25 MG\n",
       "\n",
       "[10009 rows x 2 columns]"
      ]
     },
     "execution_count": 59,
     "metadata": {},
     "output_type": "execute_result"
    }
   ],
   "source": [
    "corresponding_dfs[0]"
   ]
  },
  {
   "cell_type": "code",
   "execution_count": 60,
   "id": "thousand-packet",
   "metadata": {},
   "outputs": [
    {
     "data": {
      "text/html": [
       "<div>\n",
       "<style scoped>\n",
       "    .dataframe tbody tr th:only-of-type {\n",
       "        vertical-align: middle;\n",
       "    }\n",
       "\n",
       "    .dataframe tbody tr th {\n",
       "        vertical-align: top;\n",
       "    }\n",
       "\n",
       "    .dataframe thead th {\n",
       "        text-align: right;\n",
       "    }\n",
       "</style>\n",
       "<table border=\"1\" class=\"dataframe\">\n",
       "  <thead>\n",
       "    <tr style=\"text-align: right;\">\n",
       "      <th></th>\n",
       "      <th>dailymed_code</th>\n",
       "      <th>dailymed_label</th>\n",
       "    </tr>\n",
       "  </thead>\n",
       "  <tbody>\n",
       "    <tr>\n",
       "      <th>0</th>\n",
       "      <td>0</td>\n",
       "      <td>.00375 1 / 100 G</td>\n",
       "    </tr>\n",
       "    <tr>\n",
       "      <th>1</th>\n",
       "      <td>1</td>\n",
       "      <td>.005 MG / 1 G</td>\n",
       "    </tr>\n",
       "    <tr>\n",
       "      <th>2</th>\n",
       "      <td>2</td>\n",
       "      <td>.006 MG</td>\n",
       "    </tr>\n",
       "    <tr>\n",
       "      <th>3</th>\n",
       "      <td>3</td>\n",
       "      <td>.0065 MG / 5 ML</td>\n",
       "    </tr>\n",
       "    <tr>\n",
       "      <th>4</th>\n",
       "      <td>4</td>\n",
       "      <td>.0091 MG / 1 ML</td>\n",
       "    </tr>\n",
       "    <tr>\n",
       "      <th>...</th>\n",
       "      <td>...</td>\n",
       "      <td>...</td>\n",
       "    </tr>\n",
       "    <tr>\n",
       "      <th>2747</th>\n",
       "      <td>2747</td>\n",
       "      <td>996 ML / 1 L</td>\n",
       "    </tr>\n",
       "    <tr>\n",
       "      <th>2748</th>\n",
       "      <td>2748</td>\n",
       "      <td>997 ML / 1 L</td>\n",
       "    </tr>\n",
       "    <tr>\n",
       "      <th>2749</th>\n",
       "      <td>2749</td>\n",
       "      <td>998 ML / 1 L</td>\n",
       "    </tr>\n",
       "    <tr>\n",
       "      <th>2750</th>\n",
       "      <td>2750</td>\n",
       "      <td>999 L / 1000 L</td>\n",
       "    </tr>\n",
       "    <tr>\n",
       "      <th>2751</th>\n",
       "      <td>2751</td>\n",
       "      <td>999 ML / 1 L</td>\n",
       "    </tr>\n",
       "  </tbody>\n",
       "</table>\n",
       "<p>2752 rows × 2 columns</p>\n",
       "</div>"
      ],
      "text/plain": [
       "      dailymed_code    dailymed_label\n",
       "0                 0  .00375 1 / 100 G\n",
       "1                 1     .005 MG / 1 G\n",
       "2                 2           .006 MG\n",
       "3                 3   .0065 MG / 5 ML\n",
       "4                 4   .0091 MG / 1 ML\n",
       "...             ...               ...\n",
       "2747           2747      996 ML / 1 L\n",
       "2748           2748      997 ML / 1 L\n",
       "2749           2749      998 ML / 1 L\n",
       "2750           2750    999 L / 1000 L\n",
       "2751           2751      999 ML / 1 L\n",
       "\n",
       "[2752 rows x 2 columns]"
      ]
     },
     "execution_count": 60,
     "metadata": {},
     "output_type": "execute_result"
    }
   ],
   "source": [
    "corresponding_dfs[1]"
   ]
  },
  {
   "cell_type": "code",
   "execution_count": 61,
   "id": "synthetic-empire",
   "metadata": {},
   "outputs": [
    {
     "data": {
      "text/plain": [
       "Index(['Unnamed: 0', 'author', 'drug', 'active_ingredient', 'code', 'filename',\n",
       "       'form', 'roa', 'adverse_events_list', 'adverse_events', 'indications',\n",
       "       'active_ingredients', 'numerator_name', 'numerator_val',\n",
       "       'denominator_name', 'denominator_val', 'compos', 'drug_name',\n",
       "       'drug_name_with_code'],\n",
       "      dtype='object')"
      ]
     },
     "execution_count": 61,
     "metadata": {},
     "output_type": "execute_result"
    }
   ],
   "source": [
    "df.columns"
   ]
  },
  {
   "cell_type": "code",
   "execution_count": 62,
   "id": "green-juvenile",
   "metadata": {},
   "outputs": [],
   "source": [
    "df['drug_name'] = [construct_drug_name(row) for _, row in df.iterrows()]"
   ]
  },
  {
   "cell_type": "code",
   "execution_count": 63,
   "id": "copyrighted-identifier",
   "metadata": {},
   "outputs": [],
   "source": [
    "df['drug_name_with_code'] = [[{'name' : row['drug_name'], 'code' : row['code']}] for _, row in df.iterrows()]"
   ]
  },
  {
   "cell_type": "code",
   "execution_count": 64,
   "id": "middle-guess",
   "metadata": {},
   "outputs": [],
   "source": [
    "pairings = [\n",
    "    ('drug_name_with_code', 'drug'),\n",
    "    ('form', 'form'),\n",
    "    ('roa','roa'),\n",
    "]"
   ]
  },
  {
   "cell_type": "code",
   "execution_count": null,
   "id": "married-research",
   "metadata": {},
   "outputs": [],
   "source": []
  },
  {
   "cell_type": "code",
   "execution_count": 65,
   "id": "rational-parent",
   "metadata": {},
   "outputs": [
    {
     "name": "stdout",
     "output_type": "stream",
     "text": [
      "Automatic pdb calling has been turned ON\n"
     ]
    }
   ],
   "source": [
    "%pdb on\n",
    "for col_name, term in pairings:\n",
    "    export_vocab(df,col_name,term)"
   ]
  },
  {
   "cell_type": "code",
   "execution_count": 49,
   "id": "hawaiian-public",
   "metadata": {},
   "outputs": [],
   "source": [
    "!code ."
   ]
  },
  {
   "cell_type": "code",
   "execution_count": null,
   "id": "agricultural-roads",
   "metadata": {},
   "outputs": [],
   "source": []
  }
 ],
 "metadata": {
  "kernelspec": {
   "display_name": "Python 3",
   "language": "python",
   "name": "python3"
  },
  "language_info": {
   "codemirror_mode": {
    "name": "ipython",
    "version": 3
   },
   "file_extension": ".py",
   "mimetype": "text/x-python",
   "name": "python",
   "nbconvert_exporter": "python",
   "pygments_lexer": "ipython3",
   "version": "3.7.7"
  }
 },
 "nbformat": 4,
 "nbformat_minor": 5
}
